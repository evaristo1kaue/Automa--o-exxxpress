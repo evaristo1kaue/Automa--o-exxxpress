{
 "cells": [
  {
   "cell_type": "code",
   "execution_count": 1,
   "metadata": {},
   "outputs": [],
   "source": [
    "from selenium import webdriver\n",
    "from selenium.webdriver.common.by import By\n",
    "from time import sleep"
   ]
  },
  {
   "cell_type": "code",
   "execution_count": 2,
   "metadata": {},
   "outputs": [
    {
     "name": "stderr",
     "output_type": "stream",
     "text": [
      "Error sending stats to Plausible: error sending request for url (https://plausible.io/api/event)\n"
     ]
    }
   ],
   "source": [
    "# Abrir navegador\n",
    "navegador = webdriver.Chrome()"
   ]
  },
  {
   "cell_type": "code",
   "execution_count": 3,
   "metadata": {},
   "outputs": [],
   "source": [
    "# Acessar o site\n",
    "navegador.get(\"https://expresso.pr.gov.br/login.php?cd=1\")\n",
    "sleep(2)"
   ]
  },
  {
   "cell_type": "code",
   "execution_count": 4,
   "metadata": {},
   "outputs": [],
   "source": [
    "espaço_user = navegador.find_element(By.ID, 'user')\n",
    "espaço_user.send_keys('expressoadmin-celepar-qliksense')"
   ]
  },
  {
   "cell_type": "code",
   "execution_count": 5,
   "metadata": {},
   "outputs": [],
   "source": [
    "# Selecionando usuário e inserindo texto\n",
    "espaço_senha = navegador.find_element(By.ID,'passwd')\n",
    "espaço_senha.send_keys('Adad2066!@seuze2')"
   ]
  },
  {
   "cell_type": "code",
   "execution_count": 7,
   "metadata": {},
   "outputs": [
    {
     "ename": "NoSuchElementException",
     "evalue": "Message: no such element: Unable to locate element: {\"method\":\"css selector\",\"selector\":\"[id=\"submitit\"]\"}\n  (Session info: chrome=134.0.6998.89); For documentation on this error, please visit: https://www.selenium.dev/documentation/webdriver/troubleshooting/errors#no-such-element-exception\nStacktrace:\n\tGetHandleVerifier [0x00007FF67216FE45+26629]\n\t(No symbol) [0x00007FF6720D6010]\n\t(No symbol) [0x00007FF671F6931A]\n\t(No symbol) [0x00007FF671FBF8E7]\n\t(No symbol) [0x00007FF671FBFB1C]\n\t(No symbol) [0x00007FF6720134A7]\n\t(No symbol) [0x00007FF671FE7AEF]\n\t(No symbol) [0x00007FF672010169]\n\t(No symbol) [0x00007FF671FE7883]\n\t(No symbol) [0x00007FF671FB0550]\n\t(No symbol) [0x00007FF671FB1803]\n\tGetHandleVerifier [0x00007FF6724C72BD+3529853]\n\tGetHandleVerifier [0x00007FF6724DDA22+3621858]\n\tGetHandleVerifier [0x00007FF6724D24D3+3575443]\n\tGetHandleVerifier [0x00007FF67223B77A+860474]\n\t(No symbol) [0x00007FF6720E088F]\n\t(No symbol) [0x00007FF6720DCBC4]\n\t(No symbol) [0x00007FF6720DCD66]\n\t(No symbol) [0x00007FF6720CC2C9]\n\tBaseThreadInitThunk [0x00007FFD0213E8D7+23]\n\tRtlUserThreadStart [0x00007FFD033BBF2C+44]\n",
     "output_type": "error",
     "traceback": [
      "\u001b[31m---------------------------------------------------------------------------\u001b[39m",
      "\u001b[31mNoSuchElementException\u001b[39m                    Traceback (most recent call last)",
      "\u001b[36mCell\u001b[39m\u001b[36m \u001b[39m\u001b[32mIn[7]\u001b[39m\u001b[32m, line 2\u001b[39m\n\u001b[32m      1\u001b[39m \u001b[38;5;66;03m# Clicando no botão Entrar\u001b[39;00m\n\u001b[32m----> \u001b[39m\u001b[32m2\u001b[39m botão_entrar = \u001b[43mnavegador\u001b[49m\u001b[43m.\u001b[49m\u001b[43mfind_element\u001b[49m\u001b[43m(\u001b[49m\u001b[43mBy\u001b[49m\u001b[43m.\u001b[49m\u001b[43mID\u001b[49m\u001b[43m,\u001b[49m\u001b[33;43m'\u001b[39;49m\u001b[33;43msubmitit\u001b[39;49m\u001b[33;43m'\u001b[39;49m\u001b[43m)\u001b[49m\n\u001b[32m      3\u001b[39m botão_entrar.click()\n",
      "\u001b[36mFile \u001b[39m\u001b[32m~\\AppData\\Local\\Packages\\PythonSoftwareFoundation.Python.3.13_qbz5n2kfra8p0\\LocalCache\\local-packages\\Python313\\site-packages\\selenium\\webdriver\\remote\\webdriver.py:898\u001b[39m, in \u001b[36mWebDriver.find_element\u001b[39m\u001b[34m(self, by, value)\u001b[39m\n\u001b[32m    895\u001b[39m         \u001b[38;5;28;01mraise\u001b[39;00m NoSuchElementException(\u001b[33mf\u001b[39m\u001b[33m\"\u001b[39m\u001b[33mCannot locate relative element with: \u001b[39m\u001b[38;5;132;01m{\u001b[39;00mby.root\u001b[38;5;132;01m}\u001b[39;00m\u001b[33m\"\u001b[39m)\n\u001b[32m    896\u001b[39m     \u001b[38;5;28;01mreturn\u001b[39;00m elements[\u001b[32m0\u001b[39m]\n\u001b[32m--> \u001b[39m\u001b[32m898\u001b[39m \u001b[38;5;28;01mreturn\u001b[39;00m \u001b[38;5;28;43mself\u001b[39;49m\u001b[43m.\u001b[49m\u001b[43mexecute\u001b[49m\u001b[43m(\u001b[49m\u001b[43mCommand\u001b[49m\u001b[43m.\u001b[49m\u001b[43mFIND_ELEMENT\u001b[49m\u001b[43m,\u001b[49m\u001b[43m \u001b[49m\u001b[43m{\u001b[49m\u001b[33;43m\"\u001b[39;49m\u001b[33;43musing\u001b[39;49m\u001b[33;43m\"\u001b[39;49m\u001b[43m:\u001b[49m\u001b[43m \u001b[49m\u001b[43mby\u001b[49m\u001b[43m,\u001b[49m\u001b[43m \u001b[49m\u001b[33;43m\"\u001b[39;49m\u001b[33;43mvalue\u001b[39;49m\u001b[33;43m\"\u001b[39;49m\u001b[43m:\u001b[49m\u001b[43m \u001b[49m\u001b[43mvalue\u001b[49m\u001b[43m}\u001b[49m\u001b[43m)\u001b[49m[\u001b[33m\"\u001b[39m\u001b[33mvalue\u001b[39m\u001b[33m\"\u001b[39m]\n",
      "\u001b[36mFile \u001b[39m\u001b[32m~\\AppData\\Local\\Packages\\PythonSoftwareFoundation.Python.3.13_qbz5n2kfra8p0\\LocalCache\\local-packages\\Python313\\site-packages\\selenium\\webdriver\\remote\\webdriver.py:429\u001b[39m, in \u001b[36mWebDriver.execute\u001b[39m\u001b[34m(self, driver_command, params)\u001b[39m\n\u001b[32m    427\u001b[39m response = \u001b[38;5;28mself\u001b[39m.command_executor.execute(driver_command, params)\n\u001b[32m    428\u001b[39m \u001b[38;5;28;01mif\u001b[39;00m response:\n\u001b[32m--> \u001b[39m\u001b[32m429\u001b[39m     \u001b[38;5;28;43mself\u001b[39;49m\u001b[43m.\u001b[49m\u001b[43merror_handler\u001b[49m\u001b[43m.\u001b[49m\u001b[43mcheck_response\u001b[49m\u001b[43m(\u001b[49m\u001b[43mresponse\u001b[49m\u001b[43m)\u001b[49m\n\u001b[32m    430\u001b[39m     response[\u001b[33m\"\u001b[39m\u001b[33mvalue\u001b[39m\u001b[33m\"\u001b[39m] = \u001b[38;5;28mself\u001b[39m._unwrap_value(response.get(\u001b[33m\"\u001b[39m\u001b[33mvalue\u001b[39m\u001b[33m\"\u001b[39m, \u001b[38;5;28;01mNone\u001b[39;00m))\n\u001b[32m    431\u001b[39m     \u001b[38;5;28;01mreturn\u001b[39;00m response\n",
      "\u001b[36mFile \u001b[39m\u001b[32m~\\AppData\\Local\\Packages\\PythonSoftwareFoundation.Python.3.13_qbz5n2kfra8p0\\LocalCache\\local-packages\\Python313\\site-packages\\selenium\\webdriver\\remote\\errorhandler.py:232\u001b[39m, in \u001b[36mErrorHandler.check_response\u001b[39m\u001b[34m(self, response)\u001b[39m\n\u001b[32m    230\u001b[39m         alert_text = value[\u001b[33m\"\u001b[39m\u001b[33malert\u001b[39m\u001b[33m\"\u001b[39m].get(\u001b[33m\"\u001b[39m\u001b[33mtext\u001b[39m\u001b[33m\"\u001b[39m)\n\u001b[32m    231\u001b[39m     \u001b[38;5;28;01mraise\u001b[39;00m exception_class(message, screen, stacktrace, alert_text)  \u001b[38;5;66;03m# type: ignore[call-arg]  # mypy is not smart enough here\u001b[39;00m\n\u001b[32m--> \u001b[39m\u001b[32m232\u001b[39m \u001b[38;5;28;01mraise\u001b[39;00m exception_class(message, screen, stacktrace)\n",
      "\u001b[31mNoSuchElementException\u001b[39m: Message: no such element: Unable to locate element: {\"method\":\"css selector\",\"selector\":\"[id=\"submitit\"]\"}\n  (Session info: chrome=134.0.6998.89); For documentation on this error, please visit: https://www.selenium.dev/documentation/webdriver/troubleshooting/errors#no-such-element-exception\nStacktrace:\n\tGetHandleVerifier [0x00007FF67216FE45+26629]\n\t(No symbol) [0x00007FF6720D6010]\n\t(No symbol) [0x00007FF671F6931A]\n\t(No symbol) [0x00007FF671FBF8E7]\n\t(No symbol) [0x00007FF671FBFB1C]\n\t(No symbol) [0x00007FF6720134A7]\n\t(No symbol) [0x00007FF671FE7AEF]\n\t(No symbol) [0x00007FF672010169]\n\t(No symbol) [0x00007FF671FE7883]\n\t(No symbol) [0x00007FF671FB0550]\n\t(No symbol) [0x00007FF671FB1803]\n\tGetHandleVerifier [0x00007FF6724C72BD+3529853]\n\tGetHandleVerifier [0x00007FF6724DDA22+3621858]\n\tGetHandleVerifier [0x00007FF6724D24D3+3575443]\n\tGetHandleVerifier [0x00007FF67223B77A+860474]\n\t(No symbol) [0x00007FF6720E088F]\n\t(No symbol) [0x00007FF6720DCBC4]\n\t(No symbol) [0x00007FF6720DCD66]\n\t(No symbol) [0x00007FF6720CC2C9]\n\tBaseThreadInitThunk [0x00007FFD0213E8D7+23]\n\tRtlUserThreadStart [0x00007FFD033BBF2C+44]\n"
     ]
    }
   ],
   "source": [
    "# Clicando no botão Entrar\n",
    "botão_entrar = navegador.find_element(By.ID,'submitit')\n",
    "botão_entrar.click()"
   ]
  },
  {
   "cell_type": "code",
   "execution_count": null,
   "metadata": {},
   "outputs": [],
   "source": [
    "# Botão expresso admin\n",
    "botão_admin = navegador.find_element(By.CLASS,'navbar_but')\n",
    "botão_admin.click()"
   ]
  },
  {
   "cell_type": "code",
   "execution_count": null,
   "metadata": {},
   "outputs": [],
   "source": [
    "# Botão usuários\n",
    "botão_usuarios = navegador.find_element(By.XPATH,'//*[@id=\"tableDivAppbox\"]/tbody/tr/td/table/tbody/tr[1]/td[2]/a')\n",
    "botão_usuarios.click()"
   ]
  },
  {
   "cell_type": "code",
   "execution_count": null,
   "metadata": {},
   "outputs": [],
   "source": [
    "# Botão usuários\n",
    "botão_usuarios = navegador.find_element(By.XPATH,'//*[@id=\"tableDivAppbox\"]/tbody/tr/td/div[1]/table/tbody/tr/td[1]/form/input[1]')\n",
    "botão_usuarios.click()"
   ]
  },
  {
   "cell_type": "code",
   "execution_count": null,
   "metadata": {},
   "outputs": [],
   "source": [
    "# Espaço logins\n",
    "espaço_login = navegador.find_element(By.XPATH,'//*[@id=\"tabcontent1\"]/table/tbody/tr[4]/td[2]/table/tbody/tr/td/input')\n",
    "espaço_login.send_keys('teste.auto')"
   ]
  },
  {
   "cell_type": "code",
   "execution_count": null,
   "metadata": {},
   "outputs": [],
   "source": [
    "# Espaço senha1\n",
    "espaço_senha1 = navegador.find_element(By.XPATH,'//*[@id=\"tabcontent1\"]/table/tbody/tr[4]/td[2]/table/tbody/tr/td/input')\n",
    "espaço_senha1.send_keys('teste12345')"
   ]
  },
  {
   "cell_type": "code",
   "execution_count": null,
   "metadata": {},
   "outputs": [],
   "source": [
    "# Espaço senha2\n",
    "espaço_senha2 = navegador.find_element(By.XPATH,'//*[@id=\"password2\"]')\n",
    "espaço_senha2.send_keys('teste12345')"
   ]
  },
  {
   "cell_type": "code",
   "execution_count": null,
   "metadata": {},
   "outputs": [],
   "source": [
    "# Grupos\n",
    "espaço_senha2 = navegador.find_element(By.XPATH,'//*[@id=\"tab4\"]/a')\n",
    "espaço_senha2.click()"
   ]
  }
 ],
 "metadata": {
  "kernelspec": {
   "display_name": "Python 3",
   "language": "python",
   "name": "python3"
  },
  "language_info": {
   "codemirror_mode": {
    "name": "ipython",
    "version": 3
   },
   "file_extension": ".py",
   "mimetype": "text/x-python",
   "name": "python",
   "nbconvert_exporter": "python",
   "pygments_lexer": "ipython3",
   "version": "3.13.2"
  }
 },
 "nbformat": 4,
 "nbformat_minor": 2
}
